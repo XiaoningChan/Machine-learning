{
 "cells": [
  {
   "cell_type": "code",
   "execution_count": 22,
   "id": "5399677e",
   "metadata": {},
   "outputs": [],
   "source": [
    "from sklearn.model_selection import train_test_split\n",
    "import numpy as np\n",
    "import statsmodels.api as sm\n",
    "from ISLP import load_data\n",
    "from ISLP.models import ModelSpec as MS, summarize\n",
    "from sklearn.model_selection import train_test_split\n",
    "from sklearn.linear_model import LogisticRegression,LinearRegression"
   ]
  },
  {
   "cell_type": "code",
   "execution_count": 23,
   "id": "12916285",
   "metadata": {},
   "outputs": [
    {
     "data": {
      "text/html": [
       "<div>\n",
       "<style scoped>\n",
       "    .dataframe tbody tr th:only-of-type {\n",
       "        vertical-align: middle;\n",
       "    }\n",
       "\n",
       "    .dataframe tbody tr th {\n",
       "        vertical-align: top;\n",
       "    }\n",
       "\n",
       "    .dataframe thead th {\n",
       "        text-align: right;\n",
       "    }\n",
       "</style>\n",
       "<table border=\"1\" class=\"dataframe\">\n",
       "  <thead>\n",
       "    <tr style=\"text-align: right;\">\n",
       "      <th></th>\n",
       "      <th>default</th>\n",
       "      <th>student</th>\n",
       "      <th>balance</th>\n",
       "      <th>income</th>\n",
       "    </tr>\n",
       "  </thead>\n",
       "  <tbody>\n",
       "    <tr>\n",
       "      <th>0</th>\n",
       "      <td>No</td>\n",
       "      <td>No</td>\n",
       "      <td>729.526495</td>\n",
       "      <td>44361.625074</td>\n",
       "    </tr>\n",
       "    <tr>\n",
       "      <th>1</th>\n",
       "      <td>No</td>\n",
       "      <td>Yes</td>\n",
       "      <td>817.180407</td>\n",
       "      <td>12106.134700</td>\n",
       "    </tr>\n",
       "    <tr>\n",
       "      <th>2</th>\n",
       "      <td>No</td>\n",
       "      <td>No</td>\n",
       "      <td>1073.549164</td>\n",
       "      <td>31767.138947</td>\n",
       "    </tr>\n",
       "    <tr>\n",
       "      <th>3</th>\n",
       "      <td>No</td>\n",
       "      <td>No</td>\n",
       "      <td>529.250605</td>\n",
       "      <td>35704.493935</td>\n",
       "    </tr>\n",
       "    <tr>\n",
       "      <th>4</th>\n",
       "      <td>No</td>\n",
       "      <td>No</td>\n",
       "      <td>785.655883</td>\n",
       "      <td>38463.495879</td>\n",
       "    </tr>\n",
       "    <tr>\n",
       "      <th>...</th>\n",
       "      <td>...</td>\n",
       "      <td>...</td>\n",
       "      <td>...</td>\n",
       "      <td>...</td>\n",
       "    </tr>\n",
       "    <tr>\n",
       "      <th>9995</th>\n",
       "      <td>No</td>\n",
       "      <td>No</td>\n",
       "      <td>711.555020</td>\n",
       "      <td>52992.378914</td>\n",
       "    </tr>\n",
       "    <tr>\n",
       "      <th>9996</th>\n",
       "      <td>No</td>\n",
       "      <td>No</td>\n",
       "      <td>757.962918</td>\n",
       "      <td>19660.721768</td>\n",
       "    </tr>\n",
       "    <tr>\n",
       "      <th>9997</th>\n",
       "      <td>No</td>\n",
       "      <td>No</td>\n",
       "      <td>845.411989</td>\n",
       "      <td>58636.156984</td>\n",
       "    </tr>\n",
       "    <tr>\n",
       "      <th>9998</th>\n",
       "      <td>No</td>\n",
       "      <td>No</td>\n",
       "      <td>1569.009053</td>\n",
       "      <td>36669.112365</td>\n",
       "    </tr>\n",
       "    <tr>\n",
       "      <th>9999</th>\n",
       "      <td>No</td>\n",
       "      <td>Yes</td>\n",
       "      <td>200.922183</td>\n",
       "      <td>16862.952321</td>\n",
       "    </tr>\n",
       "  </tbody>\n",
       "</table>\n",
       "<p>10000 rows × 4 columns</p>\n",
       "</div>"
      ],
      "text/plain": [
       "     default student      balance        income\n",
       "0         No      No   729.526495  44361.625074\n",
       "1         No     Yes   817.180407  12106.134700\n",
       "2         No      No  1073.549164  31767.138947\n",
       "3         No      No   529.250605  35704.493935\n",
       "4         No      No   785.655883  38463.495879\n",
       "...      ...     ...          ...           ...\n",
       "9995      No      No   711.555020  52992.378914\n",
       "9996      No      No   757.962918  19660.721768\n",
       "9997      No      No   845.411989  58636.156984\n",
       "9998      No      No  1569.009053  36669.112365\n",
       "9999      No     Yes   200.922183  16862.952321\n",
       "\n",
       "[10000 rows x 4 columns]"
      ]
     },
     "execution_count": 23,
     "metadata": {},
     "output_type": "execute_result"
    }
   ],
   "source": [
    "Default = load_data('Default')\n",
    "Default "
   ]
  },
  {
   "cell_type": "code",
   "execution_count": 24,
   "id": "f0c59c36",
   "metadata": {},
   "outputs": [
    {
     "data": {
      "text/html": [
       "<div>\n",
       "<style scoped>\n",
       "    .dataframe tbody tr th:only-of-type {\n",
       "        vertical-align: middle;\n",
       "    }\n",
       "\n",
       "    .dataframe tbody tr th {\n",
       "        vertical-align: top;\n",
       "    }\n",
       "\n",
       "    .dataframe thead th {\n",
       "        text-align: right;\n",
       "    }\n",
       "</style>\n",
       "<table border=\"1\" class=\"dataframe\">\n",
       "  <thead>\n",
       "    <tr style=\"text-align: right;\">\n",
       "      <th></th>\n",
       "      <th>coef</th>\n",
       "      <th>std err</th>\n",
       "      <th>z</th>\n",
       "      <th>P&gt;|z|</th>\n",
       "    </tr>\n",
       "  </thead>\n",
       "  <tbody>\n",
       "    <tr>\n",
       "      <th>intercept</th>\n",
       "      <td>-11.540500</td>\n",
       "      <td>0.435000</td>\n",
       "      <td>-26.544</td>\n",
       "      <td>0.0</td>\n",
       "    </tr>\n",
       "    <tr>\n",
       "      <th>balance</th>\n",
       "      <td>0.005600</td>\n",
       "      <td>0.000000</td>\n",
       "      <td>24.835</td>\n",
       "      <td>0.0</td>\n",
       "    </tr>\n",
       "    <tr>\n",
       "      <th>income</th>\n",
       "      <td>0.000021</td>\n",
       "      <td>0.000005</td>\n",
       "      <td>4.174</td>\n",
       "      <td>0.0</td>\n",
       "    </tr>\n",
       "  </tbody>\n",
       "</table>\n",
       "</div>"
      ],
      "text/plain": [
       "                coef   std err       z  P>|z|\n",
       "intercept -11.540500  0.435000 -26.544    0.0\n",
       "balance     0.005600  0.000000  24.835    0.0\n",
       "income      0.000021  0.000005   4.174    0.0"
      ]
     },
     "execution_count": 24,
     "metadata": {},
     "output_type": "execute_result"
    }
   ],
   "source": [
    "#(a)Fit a logistic regression model using income and balance to predict default\n",
    "allvars = Default.columns.drop(['default','student'])\n",
    "design = MS(allvars)\n",
    "X=design.fit_transform(Default)\n",
    "y=Default.default == 'Yes'\n",
    "glm = sm.GLM(y,X,family=sm.families.Binomial())\n",
    "results=glm.fit()\n",
    "summarize(results)"
   ]
  },
  {
   "cell_type": "code",
   "execution_count": 25,
   "id": "2cabca9f",
   "metadata": {},
   "outputs": [],
   "source": [
    "#(b)\n",
    "#i.Split the sample set into a training set and a validation set \n",
    "Default_train, Default_valid = train_test_split(Default, test_size=5000, random_state=0)"
   ]
  },
  {
   "cell_type": "code",
   "execution_count": 26,
   "id": "2f472ba5",
   "metadata": {},
   "outputs": [
    {
     "data": {
      "text/html": [
       "<div>\n",
       "<style scoped>\n",
       "    .dataframe tbody tr th:only-of-type {\n",
       "        vertical-align: middle;\n",
       "    }\n",
       "\n",
       "    .dataframe tbody tr th {\n",
       "        vertical-align: top;\n",
       "    }\n",
       "\n",
       "    .dataframe thead th {\n",
       "        text-align: right;\n",
       "    }\n",
       "</style>\n",
       "<table border=\"1\" class=\"dataframe\">\n",
       "  <thead>\n",
       "    <tr style=\"text-align: right;\">\n",
       "      <th></th>\n",
       "      <th>coef</th>\n",
       "      <th>std err</th>\n",
       "      <th>z</th>\n",
       "      <th>P&gt;|z|</th>\n",
       "    </tr>\n",
       "  </thead>\n",
       "  <tbody>\n",
       "    <tr>\n",
       "      <th>intercept</th>\n",
       "      <td>-11.389600</td>\n",
       "      <td>0.635000</td>\n",
       "      <td>-17.935</td>\n",
       "      <td>0.000</td>\n",
       "    </tr>\n",
       "    <tr>\n",
       "      <th>balance</th>\n",
       "      <td>0.005600</td>\n",
       "      <td>0.000000</td>\n",
       "      <td>16.792</td>\n",
       "      <td>0.000</td>\n",
       "    </tr>\n",
       "    <tr>\n",
       "      <th>income</th>\n",
       "      <td>0.000016</td>\n",
       "      <td>0.000007</td>\n",
       "      <td>2.151</td>\n",
       "      <td>0.031</td>\n",
       "    </tr>\n",
       "  </tbody>\n",
       "</table>\n",
       "</div>"
      ],
      "text/plain": [
       "                coef   std err       z  P>|z|\n",
       "intercept -11.389600  0.635000 -17.935  0.000\n",
       "balance     0.005600  0.000000  16.792  0.000\n",
       "income      0.000016  0.000007   2.151  0.031"
      ]
     },
     "execution_count": 26,
     "metadata": {},
     "output_type": "execute_result"
    }
   ],
   "source": [
    "#ii.Fit logistic regression model using only training observations\n",
    "hp_mm = MS(['balance', 'income'])\n",
    "X_train = hp_mm.fit_transform(Default_train)\n",
    "y_train = (Default_train.default == 'Yes').astype(int)\n",
    "glm = sm.GLM(y_train, X_train, family=sm.families.Binomial())\n",
    "results = glm.fit()\n",
    "summarize(results)"
   ]
  },
  {
   "cell_type": "code",
   "execution_count": 27,
   "id": "8cf4efd6",
   "metadata": {},
   "outputs": [],
   "source": [
    "#iii.Prediction of default ststus in validation set\n",
    "X_valid = hp_mm.transform(Default_valid)\n",
    "y_valid = (Default_valid.default == 'Yes').astype(int)\n",
    "probs_valid = results.predict(X_valid)\n",
    "labels_valid = np.where(probs_valid > 0.5, 1, 0)"
   ]
  },
  {
   "cell_type": "code",
   "execution_count": 28,
   "id": "dedc59fa",
   "metadata": {},
   "outputs": [
    {
     "name": "stdout",
     "output_type": "stream",
     "text": [
      "Validation Set Error: 0.029\n"
     ]
    }
   ],
   "source": [
    "#iv.Validation set error:0.029\n",
    "validation_error = np.mean(labels_valid != y_valid)\n",
    "print(\"Validation Set Error:\", validation_error)"
   ]
  },
  {
   "cell_type": "code",
   "execution_count": 33,
   "id": "7c783797",
   "metadata": {},
   "outputs": [
    {
     "name": "stdout",
     "output_type": "stream",
     "text": [
      "Validation Set Error: 0.027333333333333334\n"
     ]
    }
   ],
   "source": [
    "#（c）\n",
    "#1.test_size=3000\n",
    "Default_train, Default_valid = train_test_split(Default, test_size=3000, random_state=0)\n",
    "hp_mm = MS(['balance', 'income'])\n",
    "X_train = hp_mm.fit_transform(Default_train)\n",
    "y_train = (Default_train.default == 'Yes').astype(int)\n",
    "glm = sm.GLM(y_train, X_train, family=sm.families.Binomial())\n",
    "results = glm.fit()\n",
    "X_valid = hp_mm.transform(Default_valid)\n",
    "y_valid = (Default_valid.default == 'Yes').astype(int)\n",
    "probs_valid = results.predict(X_valid)\n",
    "labels_valid = np.where(probs_valid > 0.5, 1, 0)\n",
    "validation_error = np.mean(labels_valid != y_valid)\n",
    "print(\"Validation Set Error:\", validation_error)"
   ]
  },
  {
   "cell_type": "code",
   "execution_count": 36,
   "id": "cb50969b",
   "metadata": {},
   "outputs": [
    {
     "name": "stdout",
     "output_type": "stream",
     "text": [
      "Validation Set Error: 0.027571428571428573\n"
     ]
    }
   ],
   "source": [
    "#1.test_size=7000\n",
    "Default_train, Default_valid = train_test_split(Default, test_size=7000, random_state=0)\n",
    "hp_mm = MS(['balance', 'income'])\n",
    "X_train = hp_mm.fit_transform(Default_train)\n",
    "y_train = (Default_train.default == 'Yes').astype(int)\n",
    "glm = sm.GLM(y_train, X_train, family=sm.families.Binomial())\n",
    "results = glm.fit()\n",
    "X_valid = hp_mm.transform(Default_valid)\n",
    "y_valid = (Default_valid.default == 'Yes').astype(int)\n",
    "probs_valid = results.predict(X_valid)\n",
    "labels_valid = np.where(probs_valid > 0.5, 1, 0)\n",
    "validation_error = np.mean(labels_valid != y_valid)\n",
    "print(\"Validation Set Error:\", validation_error)"
   ]
  },
  {
   "cell_type": "code",
   "execution_count": 37,
   "id": "e9d99691",
   "metadata": {},
   "outputs": [
    {
     "name": "stdout",
     "output_type": "stream",
     "text": [
      "Validation Set Error: 0.02711111111111111\n"
     ]
    }
   ],
   "source": [
    "#1.test_size=9000\n",
    "Default_train, Default_valid = train_test_split(Default, test_size=9000, random_state=0)\n",
    "hp_mm = MS(['balance', 'income'])\n",
    "X_train = hp_mm.fit_transform(Default_train)\n",
    "y_train = (Default_train.default == 'Yes').astype(int)\n",
    "glm = sm.GLM(y_train, X_train, family=sm.families.Binomial())\n",
    "results = glm.fit()\n",
    "X_valid = hp_mm.transform(Default_valid)\n",
    "y_valid = (Default_valid.default == 'Yes').astype(int)\n",
    "probs_valid = results.predict(X_valid)\n",
    "labels_valid = np.where(probs_valid > 0.5, 1, 0)\n",
    "validation_error = np.mean(labels_valid != y_valid)\n",
    "print(\"Validation Set Error:\", validation_error)\n",
    "\n",
    "#comments:There is not obvious improvement found in Validation Set Error for three different splits of test_size=3000,7000,9000"
   ]
  },
  {
   "cell_type": "code",
   "execution_count": 30,
   "id": "52bb0f54",
   "metadata": {},
   "outputs": [
    {
     "name": "stdout",
     "output_type": "stream",
     "text": [
      "Validation Set Error with Dummy Variable 1: 0.0356\n",
      "Validation Set Error with Dummy Variable 2: 0.0322\n",
      "Validation Set Error with Dummy Variable 3: 0.032\n"
     ]
    },
    {
     "name": "stderr",
     "output_type": "stream",
     "text": [
      "/var/folders/b1/_lbgm2qn7lj0s6f8mq3gk_0h0000gn/T/ipykernel_14060/516637690.py:3: SettingWithCopyWarning: \n",
      "A value is trying to be set on a copy of a slice from a DataFrame.\n",
      "Try using .loc[row_indexer,col_indexer] = value instead\n",
      "\n",
      "See the caveats in the documentation: https://pandas.pydata.org/pandas-docs/stable/user_guide/indexing.html#returning-a-view-versus-a-copy\n",
      "  X['student'] = (X['student'] == 'Yes').astype(int)  # Convert 'student' to dummy variable\n"
     ]
    }
   ],
   "source": [
    "#(d)Logistic Regression Model with Dummy Variable（‘student’）\n",
    "X = Default[['income', 'balance', 'student']]\n",
    "X['student'] = (X['student'] == 'Yes').astype(int)  # Convert 'student' to dummy variable\n",
    "y = Default['default']\n",
    "\n",
    "for i in range(3):\n",
    "    X_train, X_valid, y_train, y_valid = train_test_split(X, y, test_size=0.5, random_state=i)\n",
    "    log_reg = LogisticRegression()\n",
    "    log_reg.fit(X_train, y_train)\n",
    "    y_pred = log_reg.predict(X_valid)\n",
    "    validation_error = np.mean(y_pred != y_valid)\n",
    "    print(f\"Validation Set Error with Dummy Variable {i + 1}:\", validation_error)\n",
    "\n",
    "\n",
    "#According to the result,including a dummy variable for student leads to an increase in the test error rate."
   ]
  }
 ],
 "metadata": {
  "kernelspec": {
   "display_name": "Python 3 (ipykernel)",
   "language": "python",
   "name": "python3"
  },
  "language_info": {
   "codemirror_mode": {
    "name": "ipython",
    "version": 3
   },
   "file_extension": ".py",
   "mimetype": "text/x-python",
   "name": "python",
   "nbconvert_exporter": "python",
   "pygments_lexer": "ipython3",
   "version": "3.11.4"
  }
 },
 "nbformat": 4,
 "nbformat_minor": 5
}
